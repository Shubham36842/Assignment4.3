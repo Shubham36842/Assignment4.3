{
 "cells": [
  {
   "cell_type": "raw",
   "id": "d095484a-3de6-48ff-8b3e-3733cf03b81a",
   "metadata": {},
   "source": [
    "Q1. What is Abstraction in OOps? Explain with an example."
   ]
  },
  {
   "cell_type": "raw",
   "id": "b0578551-4662-4fb4-bc7c-0e964c92ad93",
   "metadata": {},
   "source": [
    "Ans:Abstraction is used to hide the internal functionality of the function from the users.       The users only interact with the basic implementation of the function, but inner working     is hidden. User is familiar with that \"what function does\" but they don't know \"how it       does.\""
   ]
  },
  {
   "cell_type": "code",
   "execution_count": 1,
   "id": "0c8ee656-5452-44cc-a4b9-8cf491c3c3b9",
   "metadata": {},
   "outputs": [
    {
     "name": "stdout",
     "output_type": "stream",
     "text": [
      "The mileage is 30kmph\n",
      "The mileage is 27kmph \n",
      "The mileage is 25kmph \n",
      "The mileage is 24kmph \n"
     ]
    }
   ],
   "source": [
    "# Python program demonstrate  \n",
    "# abstract base class work   \n",
    "from abc import ABC, abstractmethod   \n",
    "class Car(ABC):   \n",
    "    def mileage(self):   \n",
    "        pass  \n",
    "  \n",
    "class Tesla(Car):   \n",
    "    def mileage(self):   \n",
    "        print(\"The mileage is 30kmph\")   \n",
    "class Suzuki(Car):   \n",
    "    def mileage(self):   \n",
    "        print(\"The mileage is 25kmph \")   \n",
    "class Duster(Car):   \n",
    "     def mileage(self):   \n",
    "          print(\"The mileage is 24kmph \")   \n",
    "  \n",
    "class Renault(Car):   \n",
    "    def mileage(self):   \n",
    "            print(\"The mileage is 27kmph \")   \n",
    "          \n",
    "# Driver code   \n",
    "t= Tesla ()   \n",
    "t.mileage()   \n",
    "  \n",
    "r = Renault()   \n",
    "r.mileage()   \n",
    "  \n",
    "s = Suzuki()   \n",
    "s.mileage()   \n",
    "d = Duster()   \n",
    "d.mileage() "
   ]
  },
  {
   "cell_type": "raw",
   "id": "adf2d017-39c3-434b-9bf0-8ea5ba495328",
   "metadata": {},
   "source": [
    "Q2. Differentiate between Abstraction and Encapsulation. Explain with an example."
   ]
  },
  {
   "cell_type": "raw",
   "id": "396dd11c-4d8d-41f7-b089-f7c21cc51dbd",
   "metadata": {},
   "source": [
    "Ans: Abstraction is hiding the details and implementation of the code. Encapsulation is            hiding the data and controlling the visibility of the code.\n",
    "     example:Interaction between a user and a mobile phone as an example of encapsulation.                The user does not need to understand the internal workings of the phone in order              to utilise it, which is referred to as abstraction."
   ]
  },
  {
   "cell_type": "raw",
   "id": "7830ac11-fbf5-4c7e-b20d-3b07f42f7db5",
   "metadata": {},
   "source": [
    "Q3. What is abc module in python? Why is it used?"
   ]
  },
  {
   "cell_type": "raw",
   "id": "cdda253b-b360-499c-a076-94bc014a37b0",
   "metadata": {},
   "source": [
    "Ans:Python has a module called abc (abstract base class) that offers the necessary tools for     crafting an abstract base class.The main goal of the abstract base class is to provide a     standardized way to test whether an object adheres to a given specification. It can also     prevent any attempt to instantiate a subclass that doesn’t override a particular method       in the superclass.\n",
    "  \n",
    "   use-To implement abstraction in a class in python"
   ]
  },
  {
   "cell_type": "raw",
   "id": "f219d2ab-0baa-48c9-b10b-2fbc19314cb3",
   "metadata": {},
   "source": [
    "Q4. How can we achieve data abstraction?"
   ]
  },
  {
   "cell_type": "raw",
   "id": "32572164-f437-41f9-a65e-cff79e4975d5",
   "metadata": {},
   "source": [
    "Ans: first we need to import abc class in python then used abstract method defined in abc          class to achieve abstraction.Use @abc.abstractmethod before a method to make it              abstract."
   ]
  },
  {
   "cell_type": "raw",
   "id": "beae9141-51b1-4a51-b3fd-11152aee4603",
   "metadata": {},
   "source": [
    "Q5. Can we create an instance of an abstract class? Explain your answer."
   ]
  },
  {
   "cell_type": "raw",
   "id": "e93bac92-0988-4462-8ede-20ece504485a",
   "metadata": {},
   "source": [
    "Ans:@abc.abstractmethod prevents any attempt to instantiate a subclass that doesn’t override     a particular method in the superclass.to create a instance of a abstract class first we       need to override abstract method in a subclass then we can create a instance of abstract     class"
   ]
  },
  {
   "cell_type": "code",
   "execution_count": 2,
   "id": "17e3c379-e217-4739-a613-43db95846944",
   "metadata": {},
   "outputs": [
    {
     "name": "stdout",
     "output_type": "stream",
     "text": [
      "Abstract 1\n"
     ]
    }
   ],
   "source": [
    "import abc\n",
    "\n",
    "class AbstractClass(metaclass=abc.ABCMeta):\n",
    "\t@abc.abstractmethod\n",
    "\tdef abstractName(self):\n",
    "\t\tpass\n",
    "\n",
    "class ValidSubClass(AbstractClass):\n",
    "\tdef abstractName(self):\n",
    "\t\treturn 'Abstract 1'\n",
    "\n",
    "vc = ValidSubClass()\n",
    "print(vc.abstractName())\n"
   ]
  }
 ],
 "metadata": {
  "kernelspec": {
   "display_name": "Python 3 (ipykernel)",
   "language": "python",
   "name": "python3"
  },
  "language_info": {
   "codemirror_mode": {
    "name": "ipython",
    "version": 3
   },
   "file_extension": ".py",
   "mimetype": "text/x-python",
   "name": "python",
   "nbconvert_exporter": "python",
   "pygments_lexer": "ipython3",
   "version": "3.10.8"
  }
 },
 "nbformat": 4,
 "nbformat_minor": 5
}
